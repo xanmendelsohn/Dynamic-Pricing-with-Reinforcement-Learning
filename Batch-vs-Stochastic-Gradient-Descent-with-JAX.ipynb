{
 "cells": [
  {
   "cell_type": "code",
   "execution_count": 1,
   "metadata": {},
   "outputs": [],
   "source": [
    "import warnings\n",
    "\n",
    "warnings.filterwarnings(\"ignore\", category=UserWarning)\n",
    "\n",
    "import jax\n",
    "import jax.numpy as jnp\n",
    "from jax import grad\n",
    "import matplotlib.pyplot as plt\n",
    "from jax import random\n",
    "import pandas as pd\n",
    "from scipy.optimize import minimize\n",
    "from sklearn.datasets import load_breast_cancer\n",
    "from sklearn.preprocessing import StandardScaler\n",
    "from sklearn.model_selection import train_test_split\n",
    "from sklearn.metrics import classification_report\n",
    "\n",
    "import Logit_JAX as lrj\n",
    "import PriceSensitivity_Utils as ps\n",
    "\n",
    "FS = (8, 4)  # figure size\n",
    "RS = 124  # random seed"
   ]
  },
  {
   "cell_type": "code",
   "execution_count": 2,
   "metadata": {},
   "outputs": [],
   "source": [
    "#X, y = load_breast_cancer(return_X_y=True)\n",
    "#n_feat = X.shape[1]\n",
    "#X_train, X_test, y_train, y_test = train_test_split(\n",
    "#    X, y, test_size=0.25, stratify=y, random_state=RS\n",
    "#)\n",
    "#scaler = StandardScaler()\n",
    "#scaler.fit(X_train)\n",
    "#X_train_s = scaler.transform(X_train)\n",
    "#X_test_s = scaler.transform(X_test)"
   ]
  },
  {
   "cell_type": "code",
   "execution_count": 3,
   "metadata": {},
   "outputs": [
    {
     "name": "stderr",
     "output_type": "stream",
     "text": [
      "No GPU/TPU found, falling back to CPU. (Set TF_CPP_MIN_LOG_LEVEL=0 and rerun for more info.)\n"
     ]
    }
   ],
   "source": [
    "# PPossible prices which can be offered to client\n",
    "PRICE_LIST = jnp.arange(0,1,0.01)\n",
    "\n",
    "# Price Sensitivity Parameters for 4 Client Groups\n",
    "FEATURE_SPACE = jnp.asarray([jnp.asarray([0,1]), jnp.asarray([1,0])], dtype=jnp.float32)\n",
    "PRICE_SENSITIVITY_PARMS = [[3,-0.1], [3,-0.3]]\n",
    "\n",
    "ds = ps.simulate_dataset(\n",
    "    N = 1000,\n",
    "    features = FEATURE_SPACE,\n",
    "    price_list = PRICE_LIST,\n",
    "    price_sensitivity_parms = PRICE_SENSITIVITY_PARMS,\n",
    "    seed = 12\n",
    ")"
   ]
  },
  {
   "cell_type": "code",
   "execution_count": 4,
   "metadata": {},
   "outputs": [],
   "source": [
    "ds.shape\n",
    "X = ds[:3]\n",
    "y = ds[3]\n",
    "X = jnp.swapaxes(X,0,1)"
   ]
  },
  {
   "cell_type": "code",
   "execution_count": 5,
   "metadata": {},
   "outputs": [],
   "source": [
    "n_feat = X.shape[1]\n",
    "X_train_s, X_test_s, y_train, y_test = train_test_split(\n",
    "    X, y, test_size=0.25, stratify=y, random_state=RS\n",
    ")"
   ]
  },
  {
   "cell_type": "code",
   "execution_count": 6,
   "metadata": {},
   "outputs": [
    {
     "data": {
      "text/plain": [
       "(750,)"
      ]
     },
     "execution_count": 6,
     "metadata": {},
     "output_type": "execute_result"
    }
   ],
   "source": [
    "X_train_s.shape\n",
    "y_train.shape"
   ]
  },
  {
   "cell_type": "code",
   "execution_count": 7,
   "metadata": {},
   "outputs": [
    {
     "data": {
      "image/png": "[encoded data removed]",
      "text/plain": [
       "<Figure size 576x288 with 1 Axes>"
      ]
     },
     "metadata": {
      "needs_background": "light"
     },
     "output_type": "display_data"
    }
   ],
   "source": [
    "b = 10\n",
    "r = jnp.linspace(-b, b, 200)\n",
    "_, ax = plt.subplots(figsize=FS)\n",
    "plt.plot(r, lrj.logistic(r))\n",
    "ax.grid()\n",
    "_ = ax.set(xlabel=\"r\", ylabel=\"$logistic(r)$\", title=\"The $logistic$ curve\")\n",
    "_ = ax.set_xlim(-b, b)"
   ]
  },
  {
   "cell_type": "code",
   "execution_count": 8,
   "metadata": {},
   "outputs": [
    {
     "name": "stdout",
     "output_type": "stream",
     "text": [
      "1.0512689\n"
     ]
    }
   ],
   "source": [
    "c_0 = 1.0\n",
    "w_0 = 1.0e-5 * jnp.ones(n_feat)\n",
    "print(lrj.cost(c_0, w_0, X_train_s, y_train))"
   ]
  },
  {
   "cell_type": "markdown",
   "metadata": {},
   "source": [
    "# Batch Gradient Descent"
   ]
  },
  {
   "cell_type": "code",
   "execution_count": 9,
   "metadata": {},
   "outputs": [
    {
     "name": "stdout",
     "output_type": "stream",
     "text": [
      "Exited loop at iteration 840\n",
      "CPU times: user 35.1 s, sys: 72 ms, total: 35.1 s\n",
      "Wall time: 35.1 s\n"
     ]
    }
   ],
   "source": [
    "%%time\n",
    "n_iter = 1000\n",
    "eta = 5e-2\n",
    "tol = 1e-6\n",
    "w = w_0\n",
    "c = c_0\n",
    "new_cost = float(lrj.cost(c, w, X_train_s, y_train))\n",
    "cost_hist = [new_cost]\n",
    "for i in range(n_iter):\n",
    "    c_current = c\n",
    "    c -= eta * grad(lrj.cost, argnums=0)(c_current, w, X_train_s, y_train)\n",
    "    w -= eta * grad(lrj.cost, argnums=1)(c_current, w, X_train_s, y_train)\n",
    "    new_cost = float(lrj.cost(c, w, X_train_s, y_train))\n",
    "    cost_hist.append(new_cost)\n",
    "    if (i > 20) and (i % 10 == 0):\n",
    "        if jnp.abs(cost_hist[-1] - cost_hist[-20]) < tol:\n",
    "            print(f\"Exited loop at iteration {i}\")\n",
    "            break"
   ]
  },
  {
   "cell_type": "code",
   "execution_count": 10,
   "metadata": {},
   "outputs": [
    {
     "data": {
      "image/png": "[encoded data removed]",
      "text/plain": [
       "<Figure size 576x288 with 1 Axes>"
      ]
     },
     "metadata": {
      "needs_background": "light"
     },
     "output_type": "display_data"
    }
   ],
   "source": [
    "_, ax = plt.subplots(figsize=FS)\n",
    "plt.semilogy(cost_hist)\n",
    "ax.grid()\n",
    "_ = ax.set(xlabel=\"Iteration\", ylabel=\"Cost value\", title=\"Convergence history\")"
   ]
  },
  {
   "cell_type": "code",
   "execution_count": 11,
   "metadata": {},
   "outputs": [
    {
     "name": "stdout",
     "output_type": "stream",
     "text": [
      "              precision    recall  f1-score   support\n",
      "\n",
      "         0.0       0.69      1.00      0.82       172\n",
      "         1.0       0.00      0.00      0.00        78\n",
      "\n",
      "    accuracy                           0.69       250\n",
      "   macro avg       0.34      0.50      0.41       250\n",
      "weighted avg       0.47      0.69      0.56       250\n",
      "\n"
     ]
    }
   ],
   "source": [
    "y_pred_proba = lrj.predict_proba(c, w, X_test_s)\n",
    "y_pred = jnp.array(y_pred_proba)\n",
    "y_pred = jnp.where(y_pred < 0.5, y_pred, 1.0)\n",
    "y_pred = jnp.where(y_pred >= 0.5, y_pred, 0.0)\n",
    "print(classification_report(y_test, y_pred))"
   ]
  },
  {
   "cell_type": "markdown",
   "metadata": {},
   "source": [
    "# Stochastic Gradient Descent"
   ]
  },
  {
   "cell_type": "code",
   "execution_count": 12,
   "metadata": {},
   "outputs": [
    {
     "name": "stdout",
     "output_type": "stream",
     "text": [
      "CPU times: user 33.8 s, sys: 53.4 ms, total: 33.9 s\n",
      "Wall time: 33.9 s\n"
     ]
    }
   ],
   "source": [
    "%%time\n",
    "n_iter = X_train_s.shape[0]#1000\n",
    "eta = 5e-2\n",
    "tol = 1e-6\n",
    "w = w_0\n",
    "c = c_0\n",
    "new_cost = float(lrj.cost(c, w, X_train_s[0], y_train[0]))\n",
    "cost_hist = [new_cost]\n",
    "for i in range(n_iter):\n",
    "    c_current = c\n",
    "    c -= eta * grad(lrj.cost, argnums=0)(c_current, w, X_train_s[i], y_train[i])\n",
    "    w -= eta * grad(lrj.cost, argnums=1)(c_current, w, X_train_s[i], y_train[i])\n",
    "    new_cost = float(lrj.cost(c, w, X_train_s, y_train))\n",
    "    cost_hist.append(new_cost)\n",
    "    if (i > 20) and (i % 10 == 0):\n",
    "        if jnp.abs(cost_hist[-1] - cost_hist[-20]) < tol:\n",
    "            print(f\"Exited loop at iteration {i}\")\n",
    "            break"
   ]
  },
  {
   "cell_type": "code",
   "execution_count": 13,
   "metadata": {},
   "outputs": [
    {
     "data": {
      "image/png": "[encoded data removed]",
      "text/plain": [
       "<Figure size 576x288 with 1 Axes>"
      ]
     },
     "metadata": {
      "needs_background": "light"
     },
     "output_type": "display_data"
    }
   ],
   "source": [
    "_, ax = plt.subplots(figsize=FS)\n",
    "plt.semilogy(cost_hist)\n",
    "ax.grid()\n",
    "_ = ax.set(xlabel=\"Iteration\", ylabel=\"Cost value\", title=\"Convergence history\")"
   ]
  },
  {
   "cell_type": "code",
   "execution_count": 14,
   "metadata": {},
   "outputs": [
    {
     "name": "stdout",
     "output_type": "stream",
     "text": [
      "              precision    recall  f1-score   support\n",
      "\n",
      "         0.0       0.69      1.00      0.82       172\n",
      "         1.0       0.00      0.00      0.00        78\n",
      "\n",
      "    accuracy                           0.69       250\n",
      "   macro avg       0.34      0.50      0.41       250\n",
      "weighted avg       0.47      0.69      0.56       250\n",
      "\n"
     ]
    }
   ],
   "source": [
    "y_pred_proba = lrj.predict_proba(c, w, X_test_s)\n",
    "y_pred = jnp.array(y_pred_proba)\n",
    "y_pred = jnp.where(y_pred < 0.5, y_pred, 1.0)\n",
    "y_pred = jnp.where(y_pred >= 0.5, y_pred, 0.0)\n",
    "print(classification_report(y_test, y_pred))"
   ]
  },
  {
   "cell_type": "code",
   "execution_count": 15,
   "metadata": {},
   "outputs": [
    {
     "data": {
      "text/plain": [
       "(Array(-0.29071796, dtype=float32, weak_type=True),\n",
       " Array([-0.4283252 ,  0.11431004, -0.9654911 ], dtype=float32))"
      ]
     },
     "execution_count": 15,
     "metadata": {},
     "output_type": "execute_result"
    }
   ],
   "source": [
    "c, w"
   ]
  },
  {
   "cell_type": "code",
   "execution_count": 16,
   "metadata": {},
   "outputs": [
    {
     "data": {
      "image/png": "[encoded data removed]",
      "text/plain": [
       "<Figure size 576x288 with 1 Axes>"
      ]
     },
     "metadata": {
      "needs_background": "light"
     },
     "output_type": "display_data"
    }
   ],
   "source": [
    "b = 1\n",
    "r = jnp.linspace(-b, b, 200)\n",
    "y = jnp.asarray([lrj.predict_proba(c, w, jnp.asarray([0,1,p])) for p in r])\n",
    "_, ax = plt.subplots(figsize=FS)\n",
    "plt.plot(r, y)\n",
    "ax.grid()\n",
    "_ = ax.set(xlabel=\"r\", ylabel=\"P(r)\", title=\"Probability of Purchase (PoP)\")\n",
    "_ = ax.set_xlim(-b, b)"
   ]
  },
  {
   "cell_type": "code",
   "execution_count": null,
   "metadata": {},
   "outputs": [],
   "source": []
  }
 ],
 "metadata": {
  "kernelspec": {
   "display_name": "Python 3 (ipykernel)",
   "language": "python",
   "name": "python3"
  },
  "language_info": {
   "codemirror_mode": {
    "name": "ipython",
    "version": 3
   },
   "file_extension": ".py",
   "mimetype": "text/x-python",
   "name": "python",
   "nbconvert_exporter": "python",
   "pygments_lexer": "ipython3",
   "version": "3.9.11"
  }
 },
 "nbformat": 4,
 "nbformat_minor": 4
}
