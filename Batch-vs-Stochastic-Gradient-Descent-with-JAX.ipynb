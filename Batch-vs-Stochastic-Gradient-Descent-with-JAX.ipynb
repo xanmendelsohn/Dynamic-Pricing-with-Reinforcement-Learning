{
 "cells": [
  {
   "cell_type": "code",
   "execution_count": 1,
   "metadata": {},
   "outputs": [],
   "source": [
    "import warnings\n",
    "\n",
    "warnings.filterwarnings(\"ignore\", category=UserWarning)\n",
    "\n",
    "import jax.numpy as jnp\n",
    "from jax import grad\n",
    "import matplotlib.pyplot as plt\n",
    "from scipy.optimize import minimize\n",
    "from sklearn.datasets import load_breast_cancer\n",
    "from sklearn.preprocessing import StandardScaler\n",
    "from sklearn.model_selection import train_test_split\n",
    "from sklearn.metrics import classification_report\n",
    "\n",
    "FS = (8, 4)  # figure size\n",
    "RS = 124  # random seed"
   ]
  },
  {
   "cell_type": "code",
   "execution_count": 2,
   "metadata": {},
   "outputs": [],
   "source": [
    "X, y = load_breast_cancer(return_X_y=True)\n",
    "n_feat = X.shape[1]\n",
    "X_train, X_test, y_train, y_test = train_test_split(\n",
    "    X, y, test_size=0.25, stratify=y, random_state=RS\n",
    ")\n",
    "scaler = StandardScaler()\n",
    "scaler.fit(X_train)\n",
    "X_train_s = scaler.transform(X_train)\n",
    "X_test_s = scaler.transform(X_test)"
   ]
  },
  {
   "cell_type": "code",
   "execution_count": 3,
   "metadata": {},
   "outputs": [
    {
     "data": {
      "image/png": "[encoded data removed]",
      "text/plain": [
       "<Figure size 576x288 with 1 Axes>"
      ]
     },
     "metadata": {
      "needs_background": "light"
     },
     "output_type": "display_data"
    }
   ],
   "source": [
    "def logistic(r):\n",
    "    return 1 / (1 + jnp.exp(-r))\n",
    "\n",
    "\n",
    "b = 10\n",
    "r = jnp.linspace(-b, b, 200)\n",
    "_, ax = plt.subplots(figsize=FS)\n",
    "plt.plot(r, logistic(r))\n",
    "ax.grid()\n",
    "_ = ax.set(xlabel=\"r\", ylabel=\"$logistic(r)$\", title=\"The $logistic$ curve\")\n",
    "_ = ax.set_xlim(-b, b)"
   ]
  },
  {
   "cell_type": "code",
   "execution_count": 4,
   "metadata": {},
   "outputs": [],
   "source": [
    "def predict(c, w, X):\n",
    "    return logistic(jnp.dot(X, w) + c)"
   ]
  },
  {
   "cell_type": "code",
   "execution_count": 5,
   "metadata": {},
   "outputs": [],
   "source": [
    "def cost(c, w, X, y, eps=1e-14, lmbd=0.1):\n",
    "    n = y.size\n",
    "    p = predict(c, w, X)\n",
    "    p = jnp.clip(p, eps, 1 - eps)  # bound the probabilities within (0,1) to avoid ln(0)\n",
    "    return -jnp.sum(y * jnp.log(p) + (1 - y) * jnp.log(1 - p)) / n + 0.5 * lmbd * (\n",
    "        jnp.dot(w, w) + c * c\n",
    "    )"
   ]
  },
  {
   "cell_type": "code",
   "execution_count": 6,
   "metadata": {},
   "outputs": [
    {
     "name": "stdout",
     "output_type": "stream",
     "text": [
      "0.7365704\n"
     ]
    }
   ],
   "source": [
    "c_0 = 1.0\n",
    "w_0 = 1.0e-5 * jnp.ones(n_feat)\n",
    "print(cost(c_0, w_0, X_train_s, y_train))"
   ]
  },
  {
   "cell_type": "code",
   "execution_count": 11,
   "metadata": {},
   "outputs": [
    {
     "data": {
      "text/plain": [
       "426"
      ]
     },
     "execution_count": 11,
     "metadata": {},
     "output_type": "execute_result"
    }
   ],
   "source": [
    "X_train_s.shape[0]"
   ]
  },
  {
   "cell_type": "markdown",
   "metadata": {},
   "source": [
    "# Batch Gradient Descent"
   ]
  },
  {
   "cell_type": "code",
   "execution_count": 19,
   "metadata": {},
   "outputs": [
    {
     "name": "stdout",
     "output_type": "stream",
     "text": [
      "Exited loop at iteration 680\n",
      "CPU times: user 29.1 s, sys: 227 ms, total: 29.4 s\n",
      "Wall time: 32.2 s\n"
     ]
    }
   ],
   "source": [
    "%%time\n",
    "n_iter = 1000\n",
    "eta = 5e-2\n",
    "tol = 1e-6\n",
    "w = w_0\n",
    "c = c_0\n",
    "new_cost = float(cost(c, w, X_train_s, y_train))\n",
    "cost_hist = [new_cost]\n",
    "for i in range(n_iter):\n",
    "    c_current = c\n",
    "    c -= eta * grad(cost, argnums=0)(c_current, w, X_train_s, y_train)\n",
    "    w -= eta * grad(cost, argnums=1)(c_current, w, X_train_s, y_train)\n",
    "    new_cost = float(cost(c, w, X_train_s, y_train))\n",
    "    cost_hist.append(new_cost)\n",
    "    if (i > 20) and (i % 10 == 0):\n",
    "        if jnp.abs(cost_hist[-1] - cost_hist[-20]) < tol:\n",
    "            print(f\"Exited loop at iteration {i}\")\n",
    "            break"
   ]
  },
  {
   "cell_type": "code",
   "execution_count": 20,
   "metadata": {},
   "outputs": [
    {
     "data": {
      "image/png": "[encoded data removed]",
      "text/plain": [
       "<Figure size 576x288 with 1 Axes>"
      ]
     },
     "metadata": {
      "needs_background": "light"
     },
     "output_type": "display_data"
    }
   ],
   "source": [
    "_, ax = plt.subplots(figsize=FS)\n",
    "plt.semilogy(cost_hist)\n",
    "ax.grid()\n",
    "_ = ax.set(xlabel=\"Iteration\", ylabel=\"Cost value\", title=\"Convergence history\")"
   ]
  },
  {
   "cell_type": "markdown",
   "metadata": {},
   "source": [
    "# Stochastic Gradient Descent"
   ]
  },
  {
   "cell_type": "code",
   "execution_count": 14,
   "metadata": {},
   "outputs": [
    {
     "name": "stdout",
     "output_type": "stream",
     "text": [
      "CPU times: user 19.2 s, sys: 81.1 ms, total: 19.3 s\n",
      "Wall time: 20.8 s\n"
     ]
    }
   ],
   "source": [
    "%%time\n",
    "n_iter = X_train_s.shape[0]#1000\n",
    "eta = 5e-2\n",
    "tol = 1e-6\n",
    "w = w_0\n",
    "c = c_0\n",
    "new_cost = float(cost(c, w, X_train_s[0], y_train[0]))\n",
    "cost_hist = [new_cost]\n",
    "for i in range(n_iter):\n",
    "    c_current = c\n",
    "    c -= eta * grad(cost, argnums=0)(c_current, w, X_train_s[i], y_train[i])\n",
    "    w -= eta * grad(cost, argnums=1)(c_current, w, X_train_s[i], y_train[i])\n",
    "    new_cost = float(cost(c, w, X_train_s, y_train))\n",
    "    cost_hist.append(new_cost)\n",
    "    if (i > 20) and (i % 10 == 0):\n",
    "        if jnp.abs(cost_hist[-1] - cost_hist[-20]) < tol:\n",
    "            print(f\"Exited loop at iteration {i}\")\n",
    "            break"
   ]
  },
  {
   "cell_type": "code",
   "execution_count": 15,
   "metadata": {},
   "outputs": [
    {
     "data": {
      "image/png": "[encoded data removed]",
      "text/plain": [
       "<Figure size 576x288 with 1 Axes>"
      ]
     },
     "metadata": {
      "needs_background": "light"
     },
     "output_type": "display_data"
    }
   ],
   "source": [
    "_, ax = plt.subplots(figsize=FS)\n",
    "plt.semilogy(cost_hist)\n",
    "ax.grid()\n",
    "_ = ax.set(xlabel=\"Iteration\", ylabel=\"Cost value\", title=\"Convergence history\")"
   ]
  },
  {
   "cell_type": "code",
   "execution_count": 9,
   "metadata": {},
   "outputs": [
    {
     "name": "stdout",
     "output_type": "stream",
     "text": [
      "              precision    recall  f1-score   support\n",
      "\n",
      "           0       0.94      0.96      0.95        53\n",
      "           1       0.98      0.97      0.97        90\n",
      "\n",
      "    accuracy                           0.97       143\n",
      "   macro avg       0.96      0.96      0.96       143\n",
      "weighted avg       0.97      0.97      0.97       143\n",
      "\n"
     ]
    }
   ],
   "source": [
    "y_pred_proba = predict(c, w, X_test_s)\n",
    "y_pred = jnp.array(y_pred_proba)\n",
    "y_pred = jnp.where(y_pred < 0.5, y_pred, 1.0)\n",
    "y_pred = jnp.where(y_pred >= 0.5, y_pred, 0.0)\n",
    "print(classification_report(y_test, y_pred))"
   ]
  },
  {
   "cell_type": "code",
   "execution_count": null,
   "metadata": {},
   "outputs": [],
   "source": []
  }
 ],
 "metadata": {
  "kernelspec": {
   "display_name": "Python 3",
   "language": "python",
   "name": "python3"
  },
  "language_info": {
   "codemirror_mode": {
    "name": "ipython",
    "version": 3
   },
   "file_extension": ".py",
   "mimetype": "text/x-python",
   "name": "python",
   "nbconvert_exporter": "python",
   "pygments_lexer": "ipython3",
   "version": "3.7.3"
  }
 },
 "nbformat": 4,
 "nbformat_minor": 4
}
