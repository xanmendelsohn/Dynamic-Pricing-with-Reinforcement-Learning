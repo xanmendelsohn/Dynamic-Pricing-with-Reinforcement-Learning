{
 "cells": [
  {
   "cell_type": "code",
   "execution_count": 2,
   "id": "c65f0665-1b15-419c-898d-19d785bb2597",
   "metadata": {},
   "outputs": [],
   "source": [
    "import sys, random\n",
    "import numpy as np\n",
    "import matplotlib.pyplot as plt\n",
    "import seaborn as sns\n",
    "import pandas as pd"
   ]
  },
  {
   "cell_type": "code",
   "execution_count": 3,
   "id": "ca988254-7b41-45d7-b6bd-6d954e4b9298",
   "metadata": {},
   "outputs": [],
   "source": [
    "#contextual data \n",
    "rates_dict = {\n",
    "    ('Branche 1','Groesse 1'): [1,1],\n",
    "    ('Branche 2','Groesse 1'): [2,1],\n",
    "    ('Branche 3','Groesse 1'): [3,1],\n",
    "    ('Branche 1','Groesse 2'): [4,1],\n",
    "    ('Branche 2','Groesse 2'): [5,1],\n",
    "    ('Branche 3','Groesse 2'): [6,1]\n",
    "}\n",
    "\n",
    "def synthetic_data(rates_dict, n=10, epsilon = 1, drop=[]):\n",
    "    \"\"\"\n",
    "    n: dataset size\n",
    "    epsilon: noise for price decision\n",
    "    \n",
    "    \"\"\"\n",
    "    data = []\n",
    "    for i in range(n):\n",
    "        branche = random.choice([\"Branche 1\",\"Branche 1\",\"Branche 1\",\"Branche 1\",\"Branche 1\",'Branche 2','Branche 3'])\n",
    "        groesse = random.choice([\"Groesse 1\",\"Groesse 2\"])\n",
    "        parm_u = rates_dict[(branche, groesse)][0]\n",
    "        parm_s = rates_dict[(branche, groesse)][1]\n",
    "        data.append((branche,groesse,parm_u, parm_s))\n",
    "    df = pd.DataFrame(data, columns=['branche','groesse','parm_u', 'parm_s'])\n",
    "    if drop:\n",
    "        df.drop(drop, inplace = True, axis = 1)\n",
    "    return pd.get_dummies(df)\n",
    "\n",
    "df = synthetic_data(rates_dict, n=1000)"
   ]
  },
  {
   "cell_type": "code",
   "execution_count": 4,
   "id": "77d1366f-5fe8-43d5-ae99-601edcaa4afa",
   "metadata": {},
   "outputs": [],
   "source": [
    "df.to_pickle(\"FK_Acceptance_Rates.pkl\")"
   ]
  }
 ],
 "metadata": {
  "kernelspec": {
   "display_name": "Python 3 (ipykernel)",
   "language": "python",
   "name": "python3"
  },
  "language_info": {
   "codemirror_mode": {
    "name": "ipython",
    "version": 3
   },
   "file_extension": ".py",
   "mimetype": "text/x-python",
   "name": "python",
   "nbconvert_exporter": "python",
   "pygments_lexer": "ipython3",
   "version": "3.9.11"
  }
 },
 "nbformat": 4,
 "nbformat_minor": 5
}
